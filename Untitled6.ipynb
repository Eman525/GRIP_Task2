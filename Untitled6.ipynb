{
 "cells": [
  {
   "cell_type": "markdown",
   "id": "598e1fa1",
   "metadata": {},
   "source": [
    "## **The Sparks Foundation**\n",
    "**Data Science and Business Analytics Internship**"
   ]
  },
  {
   "cell_type": "markdown",
   "id": "f896bea6",
   "metadata": {},
   "source": [
    "### **Author: Eman Ragab**\n",
    "**GRIP OCTOBER 2023 Batch**"
   ]
  },
  {
   "cell_type": "markdown",
   "id": "f8e02c0c",
   "metadata": {},
   "source": [
    "## **Task 2: Prediction using UnSupervised ML**\n",
    "**Using K-Means Clustering on IRIS Dataset, predict the optimum number of clusters and represent it visually.**"
   ]
  },
  {
   "cell_type": "code",
   "execution_count": 68,
   "id": "b0199e6d",
   "metadata": {},
   "outputs": [],
   "source": [
    "# Import all necessary libraries\n",
    "import numpy as np\n",
    "import pandas as pd\n",
    "import matplotlib.pyplot as plt\n",
    "from sklearn.cluster import KMeans"
   ]
  },
  {
   "cell_type": "code",
   "execution_count": 69,
   "id": "063738ce",
   "metadata": {},
   "outputs": [
    {
     "data": {
      "text/html": [
       "<div>\n",
       "<style scoped>\n",
       "    .dataframe tbody tr th:only-of-type {\n",
       "        vertical-align: middle;\n",
       "    }\n",
       "\n",
       "    .dataframe tbody tr th {\n",
       "        vertical-align: top;\n",
       "    }\n",
       "\n",
       "    .dataframe thead th {\n",
       "        text-align: right;\n",
       "    }\n",
       "</style>\n",
       "<table border=\"1\" class=\"dataframe\">\n",
       "  <thead>\n",
       "    <tr style=\"text-align: right;\">\n",
       "      <th></th>\n",
       "      <th>Id</th>\n",
       "      <th>SepalLengthCm</th>\n",
       "      <th>SepalWidthCm</th>\n",
       "      <th>PetalLengthCm</th>\n",
       "      <th>PetalWidthCm</th>\n",
       "      <th>Species</th>\n",
       "    </tr>\n",
       "  </thead>\n",
       "  <tbody>\n",
       "    <tr>\n",
       "      <th>0</th>\n",
       "      <td>1</td>\n",
       "      <td>5.1</td>\n",
       "      <td>3.5</td>\n",
       "      <td>1.4</td>\n",
       "      <td>0.2</td>\n",
       "      <td>Iris-setosa</td>\n",
       "    </tr>\n",
       "    <tr>\n",
       "      <th>1</th>\n",
       "      <td>2</td>\n",
       "      <td>4.9</td>\n",
       "      <td>3.0</td>\n",
       "      <td>1.4</td>\n",
       "      <td>0.2</td>\n",
       "      <td>Iris-setosa</td>\n",
       "    </tr>\n",
       "    <tr>\n",
       "      <th>2</th>\n",
       "      <td>3</td>\n",
       "      <td>4.7</td>\n",
       "      <td>3.2</td>\n",
       "      <td>1.3</td>\n",
       "      <td>0.2</td>\n",
       "      <td>Iris-setosa</td>\n",
       "    </tr>\n",
       "    <tr>\n",
       "      <th>3</th>\n",
       "      <td>4</td>\n",
       "      <td>4.6</td>\n",
       "      <td>3.1</td>\n",
       "      <td>1.5</td>\n",
       "      <td>0.2</td>\n",
       "      <td>Iris-setosa</td>\n",
       "    </tr>\n",
       "    <tr>\n",
       "      <th>4</th>\n",
       "      <td>5</td>\n",
       "      <td>5.0</td>\n",
       "      <td>3.6</td>\n",
       "      <td>1.4</td>\n",
       "      <td>0.2</td>\n",
       "      <td>Iris-setosa</td>\n",
       "    </tr>\n",
       "  </tbody>\n",
       "</table>\n",
       "</div>"
      ],
      "text/plain": [
       "   Id  SepalLengthCm  SepalWidthCm  PetalLengthCm  PetalWidthCm      Species\n",
       "0   1            5.1           3.5            1.4           0.2  Iris-setosa\n",
       "1   2            4.9           3.0            1.4           0.2  Iris-setosa\n",
       "2   3            4.7           3.2            1.3           0.2  Iris-setosa\n",
       "3   4            4.6           3.1            1.5           0.2  Iris-setosa\n",
       "4   5            5.0           3.6            1.4           0.2  Iris-setosa"
      ]
     },
     "execution_count": 69,
     "metadata": {},
     "output_type": "execute_result"
    }
   ],
   "source": [
    "# Load the dataset from my pc\n",
    "dataset=pd.read_csv(r\"C:\\Users\\Max\\Downloads\\Iris.csv\")\n",
    "dataset.head()"
   ]
  },
  {
   "cell_type": "code",
   "execution_count": 70,
   "id": "77800661",
   "metadata": {},
   "outputs": [
    {
     "name": "stdout",
     "output_type": "stream",
     "text": [
      "Unique values: ['Iris-setosa' 'Iris-versicolor' 'Iris-virginica']\n",
      "Count of distinct values: 3\n"
     ]
    }
   ],
   "source": [
    "#df = pd.DataFrame(dataset)\n",
    "\n",
    "unique_values = dataset['Species'].unique()\n",
    "count_distinct = dataset['Species'].nunique() #num\n",
    "\n",
    "print(\"Unique values:\", unique_values)\n",
    "print(\"Count of distinct values:\", count_distinct)"
   ]
  },
  {
   "cell_type": "code",
   "execution_count": 71,
   "id": "a2983f94",
   "metadata": {},
   "outputs": [],
   "source": [
    "#convert from numpy to pandas using dataframe because iloc doesn't exist in numpy \n",
    "dataset=pd.DataFrame(dataset)\n",
    "dataset = dataset.iloc[:, [0, 1, 2, 3]].values"
   ]
  },
  {
   "cell_type": "code",
   "execution_count": 72,
   "id": "63412684",
   "metadata": {},
   "outputs": [
    {
     "name": "stderr",
     "output_type": "stream",
     "text": [
      "C:\\Users\\Max\\anaconda3\\lib\\site-packages\\sklearn\\cluster\\_kmeans.py:881: UserWarning: KMeans is known to have a memory leak on Windows with MKL, when there are less chunks than available threads. You can avoid it by setting the environment variable OMP_NUM_THREADS=1.\n",
      "  warnings.warn(\n"
     ]
    },
    {
     "data": {
      "image/png": "[encoded data removed]",
      "text/plain": [
       "<Figure size 720x360 with 1 Axes>"
      ]
     },
     "metadata": {
      "needs_background": "light"
     },
     "output_type": "display_data"
    }
   ],
   "source": [
    "#finding the optimum number of cluster \"k\"\n",
    "wcss = [] #within cluster sum of squares =>wcss\n",
    "\n",
    "for i in range(1, 11):\n",
    "    kmeans = KMeans(n_clusters = i, init = 'k-means++', \n",
    "                    max_iter = 300, n_init = 10)\n",
    "    kmeans.fit(dataset)\n",
    "    wcss.append(kmeans.inertia_)\n",
    "    \n",
    "# Plotting the results onto a line graph, \n",
    "# allowing us to observe 'The elbow'\n",
    "plt.figure(figsize=(10,5))\n",
    "plt.plot(range(1, 11), wcss)\n",
    "plt.title('The elbow method',fontsize=20)\n",
    "plt.xlabel('Number of clusters',fontsize=13)\n",
    "plt.ylabel('wcss',fontsize=13) # Within cluster sum of squares\n",
    "plt.show()"
   ]
  },
  {
   "cell_type": "markdown",
   "id": "54c4b1cd",
   "metadata": {},
   "source": [
    "from this we choose the number of clusters as 3"
   ]
  },
  {
   "cell_type": "code",
   "execution_count": 73,
   "id": "63392403",
   "metadata": {},
   "outputs": [
    {
     "name": "stdout",
     "output_type": "stream",
     "text": [
      "[2 2 2 2 2 2 2 2 2 2 2 2 2 2 2 2 2 2 2 2 2 2 2 2 2 2 2 2 2 2 2 2 2 2 2 2 2\n",
      " 2 2 2 2 2 2 2 2 2 2 2 2 2 1 1 1 1 1 1 1 1 1 1 1 1 1 1 1 1 1 1 1 1 1 1 1 1\n",
      " 1 1 1 1 1 1 1 1 1 1 1 1 1 1 1 1 1 1 1 1 1 1 1 1 1 1 0 0 0 0 0 0 0 0 0 0 0\n",
      " 0 0 0 0 0 0 0 0 0 0 0 0 0 0 0 0 0 0 0 0 0 0 0 0 0 0 0 0 0 0 0 0 0 0 0 0 0\n",
      " 0 0]\n"
     ]
    }
   ],
   "source": [
    "#fit kmeans with k=3\n",
    "kmeans = KMeans(n_clusters = 3, init = 'k-means++',\n",
    "                max_iter = 300, n_init = 10)\n",
    "prediction = kmeans.fit_predict(dataset)\n",
    "print(prediction)"
   ]
  },
  {
   "cell_type": "markdown",
   "id": "d601d1f6",
   "metadata": {},
   "source": [
    "# visualisation with k=3"
   ]
  },
  {
   "cell_type": "code",
   "execution_count": 74,
   "id": "a58aef97",
   "metadata": {},
   "outputs": [
    {
     "data": {
      "text/plain": [
       "<matplotlib.legend.Legend at 0x1c8fc8c6df0>"
      ]
     },
     "execution_count": 74,
     "metadata": {},
     "output_type": "execute_result"
    },
    {
     "data": {
      "image/png": "[encoded data removed]",
      "text/plain": [
       "<Figure size 720x360 with 1 Axes>"
      ]
     },
     "metadata": {
      "needs_background": "light"
     },
     "output_type": "display_data"
    }
   ],
   "source": [
    "# plotting On the first two columns\n",
    "plt.figure(figsize=(10,5))\n",
    "plt.scatter(dataset[prediction == 0, 0], dataset[prediction == 0, 1], s = 100, c = 'purple', label = 'Iris-setosa')\n",
    "plt.scatter(dataset[prediction == 1, 0], dataset[prediction == 1, 1], s = 100, c = '#C25283', label = 'Iris-versicolour')\n",
    "plt.scatter(dataset[prediction == 2, 0], dataset[prediction == 2, 1], s = 100, c = '#800517' , label = 'Iris-virginica')\n",
    "\n",
    "# Plotting the centroids of the clusters\n",
    "plt.scatter(kmeans.cluster_centers_[:, 0], kmeans.cluster_centers_[:,1], s = 100, c = '#FFD700', label = 'Centroids')\n",
    "\n",
    "plt.legend()"
   ]
  },
  {
   "cell_type": "code",
   "execution_count": null,
   "id": "45e528ff",
   "metadata": {},
   "outputs": [],
   "source": []
  }
 ],
 "metadata": {
  "kernelspec": {
   "display_name": "Python 3 (ipykernel)",
   "language": "python",
   "name": "python3"
  },
  "language_info": {
   "codemirror_mode": {
    "name": "ipython",
    "version": 3
   },
   "file_extension": ".py",
   "mimetype": "text/x-python",
   "name": "python",
   "nbconvert_exporter": "python",
   "pygments_lexer": "ipython3",
   "version": "3.9.7"
  }
 },
 "nbformat": 4,
 "nbformat_minor": 5
}
